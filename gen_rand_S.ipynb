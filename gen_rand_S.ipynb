{
 "cells": [
  {
   "cell_type": "code",
   "execution_count": 1,
   "metadata": {},
   "outputs": [],
   "source": [
    "import random\n",
    "import numpy as np"
   ]
  },
  {
   "cell_type": "code",
   "execution_count": 2,
   "metadata": {},
   "outputs": [
    {
     "name": "stdout",
     "output_type": "stream",
     "text": [
      "[-4, -9, -10, 5, -3, -2, -3, -7, 4, -1, -6, 1, 8, 0, 4, -5, -1, -9, 9, -1, -10, -10, 6, 4, -8, 7, 4, -9, -6, 8, -8, -9, 5, -7, -8, -9, -9, 8, 2, -7, -9, -8, 3, 0, -4]\n"
     ]
    }
   ],
   "source": [
    "scores = []\n",
    "\n",
    "for i in range(0, 45):\n",
    "    scores.append(random.randrange(-10, 10, 1))\n",
    "    \n",
    "print(scores)"
   ]
  },
  {
   "cell_type": "code",
   "execution_count": 3,
   "metadata": {},
   "outputs": [],
   "source": [
    "G = {}\n",
    "it = 0\n",
    "for i in range(10):\n",
    "    for j in range(10):\n",
    "        if i == j:\n",
    "            G[(i, j)] = np.nan\n",
    "        if i < j:\n",
    "            G[(i, j)] = scores[it]\n",
    "            it += 1"
   ]
  },
  {
   "cell_type": "code",
   "execution_count": 4,
   "metadata": {},
   "outputs": [
    {
     "name": "stdout",
     "output_type": "stream",
     "text": [
      "{(0, 0): nan, (0, 1): -4, (0, 2): -9, (0, 3): -10, (0, 4): 5, (0, 5): -3, (0, 6): -2, (0, 7): -3, (0, 8): -7, (0, 9): 4, (1, 1): nan, (1, 2): -1, (1, 3): -6, (1, 4): 1, (1, 5): 8, (1, 6): 0, (1, 7): 4, (1, 8): -5, (1, 9): -1, (2, 2): nan, (2, 3): -9, (2, 4): 9, (2, 5): -1, (2, 6): -10, (2, 7): -10, (2, 8): 6, (2, 9): 4, (3, 3): nan, (3, 4): -8, (3, 5): 7, (3, 6): 4, (3, 7): -9, (3, 8): -6, (3, 9): 8, (4, 4): nan, (4, 5): -8, (4, 6): -9, (4, 7): 5, (4, 8): -7, (4, 9): -8, (5, 5): nan, (5, 6): -9, (5, 7): -9, (5, 8): 8, (5, 9): 2, (6, 6): nan, (6, 7): -7, (6, 8): -9, (6, 9): -8, (7, 7): nan, (7, 8): 3, (7, 9): 0, (8, 8): nan, (8, 9): -4, (9, 9): nan}\n"
     ]
    }
   ],
   "source": [
    "print(G)"
   ]
  },
  {
   "cell_type": "code",
   "execution_count": 5,
   "metadata": {},
   "outputs": [
    {
     "data": {
      "text/plain": [
       "[]"
      ]
     },
     "execution_count": 5,
     "metadata": {},
     "output_type": "execute_result"
    }
   ],
   "source": [
    "S = [[] for i in range(10)]\n",
    "S[0]"
   ]
  },
  {
   "cell_type": "code",
   "execution_count": 6,
   "metadata": {},
   "outputs": [],
   "source": [
    "for i in range(10):\n",
    "    for j in range(10):\n",
    "        if i <= j:\n",
    "            S[i].append(G[(i, j)])\n",
    "        if i > j:\n",
    "            S[i].append(-1 * G[(j, i)])            "
   ]
  },
  {
   "cell_type": "code",
   "execution_count": 7,
   "metadata": {},
   "outputs": [
    {
     "name": "stdout",
     "output_type": "stream",
     "text": [
      "[nan, -4, -9, -10, 5, -3, -2, -3, -7, 4]\n",
      "[4, nan, -1, -6, 1, 8, 0, 4, -5, -1]\n",
      "[9, 1, nan, -9, 9, -1, -10, -10, 6, 4]\n",
      "[10, 6, 9, nan, -8, 7, 4, -9, -6, 8]\n",
      "[-5, -1, -9, 8, nan, -8, -9, 5, -7, -8]\n",
      "[3, -8, 1, -7, 8, nan, -9, -9, 8, 2]\n",
      "[2, 0, 10, -4, 9, 9, nan, -7, -9, -8]\n",
      "[3, -4, 10, 9, -5, 9, 7, nan, 3, 0]\n",
      "[7, 5, -6, 6, 7, -8, 9, -3, nan, -4]\n",
      "[-4, 1, -4, -8, 8, -2, 8, 0, 4, nan]\n"
     ]
    }
   ],
   "source": [
    "for item in S:\n",
    "    print(item, sep = '\\n')"
   ]
  },
  {
   "cell_type": "code",
   "execution_count": 10,
   "metadata": {},
   "outputs": [
    {
     "data": {
      "text/plain": [
       "[[nan, -4, -9, -10, 5, -3, -2, -3, -7, 4],\n",
       " [4, nan, -1, -6, 1, 8, 0, 4, -5, -1],\n",
       " [9, 1, nan, -9, 9, -1, -10, -10, 6, 4],\n",
       " [10, 6, 9, nan, -8, 7, 4, -9, -6, 8],\n",
       " [-5, -1, -9, 8, nan, -8, -9, 5, -7, -8],\n",
       " [3, -8, 1, -7, 8, nan, -9, -9, 8, 2],\n",
       " [2, 0, 10, -4, 9, 9, nan, -7, -9, -8],\n",
       " [3, -4, 10, 9, -5, 9, 7, nan, 3, 0],\n",
       " [7, 5, -6, 6, 7, -8, 9, -3, nan, -4],\n",
       " [-4, 1, -4, -8, 8, -2, 8, 0, 4, nan]]"
      ]
     },
     "execution_count": 10,
     "metadata": {},
     "output_type": "execute_result"
    }
   ],
   "source": [
    "S"
   ]
  },
  {
   "cell_type": "code",
   "execution_count": null,
   "metadata": {},
   "outputs": [],
   "source": []
  }
 ],
 "metadata": {
  "kernelspec": {
   "display_name": "PythonData",
   "language": "python",
   "name": "pythondata"
  },
  "language_info": {
   "codemirror_mode": {
    "name": "ipython",
    "version": 3
   },
   "file_extension": ".py",
   "mimetype": "text/x-python",
   "name": "python",
   "nbconvert_exporter": "python",
   "pygments_lexer": "ipython3",
   "version": "3.7.6"
  }
 },
 "nbformat": 4,
 "nbformat_minor": 4
}
