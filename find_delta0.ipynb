{
 "cells": [
  {
   "cell_type": "code",
   "execution_count": 1,
   "metadata": {},
   "outputs": [],
   "source": [
    "from rand_S import S"
   ]
  },
  {
   "cell_type": "code",
   "execution_count": 2,
   "metadata": {},
   "outputs": [
    {
     "data": {
      "text/plain": [
       "[['nan', -3, -3, -3, 7, -6, 2, 4, 0, -2],\n",
       " [3, 'nan', -7, 2, 8, 1, -10, 6, 9, 6],\n",
       " [3, 7, 'nan', 7, -4, 7, 5, 8, 3, 7],\n",
       " [3, -2, -7, 'nan', -3, -4, -1, 5, -4, 6],\n",
       " [-7, -8, 4, 3, 'nan', -7, -2, 5, -2, 1],\n",
       " [6, -1, -7, 4, 7, 'nan', -6, -1, -3, -5],\n",
       " [-2, 10, -5, 1, 2, 6, 'nan', 3, 4, -3],\n",
       " [-4, -6, -8, -5, -5, 1, -3, 'nan', -4, 7],\n",
       " [0, -9, -3, 4, 2, 3, -4, 4, 'nan', -3],\n",
       " [2, -6, -7, -6, -1, 5, 3, -7, 3, 'nan']]"
      ]
     },
     "execution_count": 2,
     "metadata": {},
     "output_type": "execute_result"
    }
   ],
   "source": [
    "S"
   ]
  },
  {
   "cell_type": "code",
   "execution_count": 3,
   "metadata": {},
   "outputs": [],
   "source": [
    "def delta_0(i, S):\n",
    "    n_delta_i = 0\n",
    "    for j in range(10):\n",
    "        if S[i][j] != 'nan':\n",
    "            n_delta_i += S[i][j]\n",
    "    delta_i = n_delta_i / (len(S[i]) - 1)\n",
    "    return delta_i"
   ]
  },
  {
   "cell_type": "code",
   "execution_count": 4,
   "metadata": {},
   "outputs": [
    {
     "name": "stdout",
     "output_type": "stream",
     "text": [
      "delta_0_0 = -0.4444444444444444\n",
      "delta_0_1 = 2.0\n",
      "delta_0_2 = 4.777777777777778\n",
      "delta_0_3 = -0.7777777777777778\n",
      "delta_0_4 = -1.4444444444444444\n",
      "delta_0_5 = -0.6666666666666666\n",
      "delta_0_6 = 1.7777777777777777\n",
      "delta_0_7 = -3.0\n",
      "delta_0_8 = -0.6666666666666666\n",
      "delta_0_9 = -1.5555555555555556\n"
     ]
    }
   ],
   "source": [
    "for i in range(len(S)):\n",
    "    delta_i = delta_0(i, S)\n",
    "    print(f'delta_0_{i} = {delta_i}')"
   ]
  },
  {
   "cell_type": "code",
   "execution_count": 5,
   "metadata": {},
   "outputs": [],
   "source": [
    "def build_G(S):\n",
    "    G = {}\n",
    "    for i in range(len(S)):\n",
    "        G[f'{i}'] = []\n",
    "        for j in range(len(S)):\n",
    "            if S[i][j] != 'nan':\n",
    "                G[f'{i}'].append((i, j, S[i][j]))\n",
    "\n",
    "    return G"
   ]
  },
  {
   "cell_type": "code",
   "execution_count": 6,
   "metadata": {},
   "outputs": [
    {
     "name": "stdout",
     "output_type": "stream",
     "text": [
      "[(0, 1, -3), (0, 2, -3), (0, 3, -3), (0, 4, 7), (0, 5, -6), (0, 6, 2), (0, 7, 4), (0, 8, 0), (0, 9, -2)] \n",
      "\n",
      "[(1, 0, 3), (1, 2, -7), (1, 3, 2), (1, 4, 8), (1, 5, 1), (1, 6, -10), (1, 7, 6), (1, 8, 9), (1, 9, 6)] \n",
      "\n",
      "[(2, 0, 3), (2, 1, 7), (2, 3, 7), (2, 4, -4), (2, 5, 7), (2, 6, 5), (2, 7, 8), (2, 8, 3), (2, 9, 7)] \n",
      "\n",
      "[(3, 0, 3), (3, 1, -2), (3, 2, -7), (3, 4, -3), (3, 5, -4), (3, 6, -1), (3, 7, 5), (3, 8, -4), (3, 9, 6)] \n",
      "\n",
      "[(4, 0, -7), (4, 1, -8), (4, 2, 4), (4, 3, 3), (4, 5, -7), (4, 6, -2), (4, 7, 5), (4, 8, -2), (4, 9, 1)] \n",
      "\n",
      "[(5, 0, 6), (5, 1, -1), (5, 2, -7), (5, 3, 4), (5, 4, 7), (5, 6, -6), (5, 7, -1), (5, 8, -3), (5, 9, -5)] \n",
      "\n",
      "[(6, 0, -2), (6, 1, 10), (6, 2, -5), (6, 3, 1), (6, 4, 2), (6, 5, 6), (6, 7, 3), (6, 8, 4), (6, 9, -3)] \n",
      "\n",
      "[(7, 0, -4), (7, 1, -6), (7, 2, -8), (7, 3, -5), (7, 4, -5), (7, 5, 1), (7, 6, -3), (7, 8, -4), (7, 9, 7)] \n",
      "\n",
      "[(8, 0, 0), (8, 1, -9), (8, 2, -3), (8, 3, 4), (8, 4, 2), (8, 5, 3), (8, 6, -4), (8, 7, 4), (8, 9, -3)] \n",
      "\n",
      "[(9, 0, 2), (9, 1, -6), (9, 2, -7), (9, 3, -6), (9, 4, -1), (9, 5, 5), (9, 6, 3), (9, 7, -7), (9, 8, 3)] \n",
      "\n"
     ]
    }
   ],
   "source": [
    "G = build_G(S)\n",
    "for k in G:\n",
    "    print(G[k], '\\n')"
   ]
  },
  {
   "cell_type": "code",
   "execution_count": 9,
   "metadata": {},
   "outputs": [],
   "source": [
    "def clean_nan(G):\n",
    "    for k in G:\n",
    "        for item in G[k]:\n",
    "            if item == 'nan':\n",
    "                G[k].remove('nan')\n",
    "    return G"
   ]
  },
  {
   "cell_type": "code",
   "execution_count": 13,
   "metadata": {},
   "outputs": [],
   "source": [
    "def build_G1(G, i):\n",
    "    for g in G[f'{i}']:\n",
    "        g0 = g[0]\n",
    "        g1 = g[1]\n",
    "        g2 = g[2]\n",
    "        for it in range(len(G[f'{g1}'])):\n",
    "            if G[f'{g1}'][it] == (g1, g0, -1 * g2):\n",
    "                G[f'{g1}'][it] = 'nan'\n",
    "                  \n",
    "    G1 = clean_nan(G)\n",
    "    return G1"
   ]
  },
  {
   "cell_type": "code",
   "execution_count": 14,
   "metadata": {},
   "outputs": [
    {
     "name": "stdout",
     "output_type": "stream",
     "text": [
      "[(0, 1, -3), (0, 2, -3), (0, 3, -3), (0, 4, 7), (0, 5, -6), (0, 6, 2), (0, 7, 4), (0, 8, 0), (0, 9, -2)] \n",
      "\n",
      "[(1, 2, -7), (1, 3, 2), (1, 4, 8), (1, 5, 1), (1, 6, -10), (1, 7, 6), (1, 8, 9), (1, 9, 6)] \n",
      "\n",
      "[(2, 1, 7), (2, 3, 7), (2, 4, -4), (2, 5, 7), (2, 6, 5), (2, 7, 8), (2, 8, 3), (2, 9, 7)] \n",
      "\n",
      "[(3, 1, -2), (3, 2, -7), (3, 4, -3), (3, 5, -4), (3, 6, -1), (3, 7, 5), (3, 8, -4), (3, 9, 6)] \n",
      "\n",
      "[(4, 1, -8), (4, 2, 4), (4, 3, 3), (4, 5, -7), (4, 6, -2), (4, 7, 5), (4, 8, -2), (4, 9, 1)] \n",
      "\n",
      "[(5, 1, -1), (5, 2, -7), (5, 3, 4), (5, 4, 7), (5, 6, -6), (5, 7, -1), (5, 8, -3), (5, 9, -5)] \n",
      "\n",
      "[(6, 1, 10), (6, 2, -5), (6, 3, 1), (6, 4, 2), (6, 5, 6), (6, 7, 3), (6, 8, 4), (6, 9, -3)] \n",
      "\n",
      "[(7, 1, -6), (7, 2, -8), (7, 3, -5), (7, 4, -5), (7, 5, 1), (7, 6, -3), (7, 8, -4), (7, 9, 7)] \n",
      "\n",
      "[(8, 1, -9), (8, 2, -3), (8, 3, 4), (8, 4, 2), (8, 5, 3), (8, 6, -4), (8, 7, 4), (8, 9, -3)] \n",
      "\n",
      "[(9, 1, -6), (9, 2, -7), (9, 3, -6), (9, 4, -1), (9, 5, 5), (9, 6, 3), (9, 7, -7), (9, 8, 3)] \n",
      "\n"
     ]
    }
   ],
   "source": [
    "G0_1 = build_G1(G, 0)\n",
    "\n",
    "for k in G0_1:\n",
    "    print(G0_1[k], '\\n')"
   ]
  },
  {
   "cell_type": "code",
   "execution_count": 15,
   "metadata": {},
   "outputs": [],
   "source": [
    "def get_n(row_i, G):\n",
    "    n = 0 \n",
    "    for j in G[f'{row_i}']:\n",
    "        if j != 'nan':\n",
    "            n += 1\n",
    "    return n"
   ]
  },
  {
   "cell_type": "code",
   "execution_count": 16,
   "metadata": {},
   "outputs": [
    {
     "data": {
      "text/plain": [
       "8"
      ]
     },
     "execution_count": 16,
     "metadata": {},
     "output_type": "execute_result"
    }
   ],
   "source": [
    "get_n(1, G0_1)"
   ]
  }
 ],
 "metadata": {
  "kernelspec": {
   "display_name": "Python 3",
   "language": "python",
   "name": "python3"
  },
  "language_info": {
   "codemirror_mode": {
    "name": "ipython",
    "version": 3
   },
   "file_extension": ".py",
   "mimetype": "text/x-python",
   "name": "python",
   "nbconvert_exporter": "python",
   "pygments_lexer": "ipython3",
   "version": "3.7.6"
  }
 },
 "nbformat": 4,
 "nbformat_minor": 4
}
